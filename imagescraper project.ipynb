{
 "cells": [
  {
   "cell_type": "code",
   "execution_count": 1,
   "id": "9164a53f-ae76-4b7d-9201-e9922cd8e179",
   "metadata": {},
   "outputs": [],
   "source": [
    "import requests\n",
    "from bs4 import BeautifulSoup\n",
    "from urllib.request import urlopen as uReq\n",
    "import logging\n",
    "import os"
   ]
  },
  {
   "cell_type": "code",
   "execution_count": 2,
   "id": "0d220471-0ea1-4ff7-b973-767698ac46e6",
   "metadata": {},
   "outputs": [],
   "source": [
    "save_dir = \"images/\"\n",
    "if not os.path.exists(save_dir):\n",
    "    os.makedirs(save_dir)"
   ]
  },
  {
   "cell_type": "code",
   "execution_count": 3,
   "id": "d6c9cd01-39d9-4a4a-8991-6f4f565de3aa",
   "metadata": {},
   "outputs": [],
   "source": [
    "headers = {\"User-Agent\": \"Mozilla/5.0 (Windows NT 10.0; Win64; x64) AppleWebKit/537.36 (KHTML, like Gecko) Chrome/58.0.3029.110 Safari/537.36\"}"
   ]
  },
  {
   "cell_type": "code",
   "execution_count": 4,
   "id": "f94b8afe-ecd7-484c-8ea9-6e1f6ada1343",
   "metadata": {},
   "outputs": [],
   "source": [
    "query = \"data science\"\n",
    "response = requests.get(f\"https://www.google.com/search?{query}sca_esv=3e5ddf52b76d97c4&sca_upv=1&rlz=1C1YTUH_enIN1029IN1030&sxsrf=ACQVn0_uIcyQk2IV2vuhoV7K8YYTIUhtaw:1713960350381&q=data+science&uds=AMwkrPsN1MlSOLgNl5idn00N_G8iHxvdfM-JJlEbmgdeH_meT59AWfeehP2orGtIoaNBhGZgiUXlnto0r0DsNmsa4DcVZKS_C7QnRbdAAgQ6gaVEioaLAVyFTNSeks3iL1wW5tilWWJSl3jVnfFDtoh7DbfiYKIryXdAEtD0lOdQJrEg2_8GheghowgHLn4UYTxCj8pKwHTCVyjonMyuNGwZ2NF3NIxQGfM_HqtAfFkHNUR-kkpmldBst5sqCM65WrXxvxNaE438jvEWPMssdBxfbufdHr6gz4HN18fBV7tP0Sjl-fgWXew&udm=2&prmd=ivnsbmtz&sa=X&ved=2ahUKEwjoqd_u59qFAxUV8WEKHbMRBkoQtKgLegQIDRAB&biw=1536&bih=695&dpr=1.25\")"
   ]
  },
  {
   "cell_type": "code",
   "execution_count": 8,
   "id": "b7ca5275-15a2-4210-85c2-d8fbeb5ad063",
   "metadata": {},
   "outputs": [],
   "source": [
    "soup = BeautifulSoup(response.content, 'html.parser')"
   ]
  },
  {
   "cell_type": "code",
   "execution_count": 10,
   "id": "849192e3-f4f7-43f0-aafc-cc17df086ba5",
   "metadata": {},
   "outputs": [],
   "source": [
    "images_tags = soup.find_all(\"img\")"
   ]
  },
  {
   "cell_type": "code",
   "execution_count": 11,
   "id": "dba82427-b6b4-4d7c-8594-350d0411d62b",
   "metadata": {},
   "outputs": [
    {
     "data": {
      "text/plain": [
       "21"
      ]
     },
     "execution_count": 11,
     "metadata": {},
     "output_type": "execute_result"
    }
   ],
   "source": [
    "len(images_tags)"
   ]
  },
  {
   "cell_type": "code",
   "execution_count": 12,
   "id": "63a53960-679b-47b2-8bc4-7054c4382645",
   "metadata": {},
   "outputs": [],
   "source": [
    "del images_tags[0]"
   ]
  },
  {
   "cell_type": "code",
   "execution_count": 22,
   "id": "af716e4a-7721-4baf-92f6-1caf0aecac8d",
   "metadata": {},
   "outputs": [],
   "source": [
    "img_data_mongo = []\n",
    "for i in images_tags:\n",
    "    image_url = i['src']\n",
    "    image_data = requests.get(image_url).content\n",
    "    mydict = {\"index\":image_url, \"image\": image_data}\n",
    "    img_data_mongo.append(mydict)\n",
    "    with open(os.path.join(save_dir,f\"{query}_{images_tags.index(i)}.jpg\"),\"wb\") as f:\n",
    "              f.write(image_data)             "
   ]
  },
  {
   "cell_type": "code",
   "execution_count": null,
   "id": "c841ef07-311a-46eb-8aa7-82c364316d58",
   "metadata": {},
   "outputs": [],
   "source": []
  }
 ],
 "metadata": {
  "kernelspec": {
   "display_name": "Python 3 (ipykernel)",
   "language": "python",
   "name": "python3"
  },
  "language_info": {
   "codemirror_mode": {
    "name": "ipython",
    "version": 3
   },
   "file_extension": ".py",
   "mimetype": "text/x-python",
   "name": "python",
   "nbconvert_exporter": "python",
   "pygments_lexer": "ipython3",
   "version": "3.10.8"
  }
 },
 "nbformat": 4,
 "nbformat_minor": 5
}
